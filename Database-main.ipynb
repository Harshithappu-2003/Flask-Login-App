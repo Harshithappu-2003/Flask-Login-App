{
 "cells": [
  {
   "cell_type": "code",
   "execution_count": 1,
   "id": "c10885a7-e160-4676-b234-9c363ec28e51",
   "metadata": {},
   "outputs": [
    {
     "name": "stdout",
     "output_type": "stream",
     "text": [
      "Requirement already satisfied: mysql-connector-python in c:\\users\\harshith\\appdata\\local\\programs\\python\\python312\\lib\\site-packages (9.1.0)\n",
      "Note: you may need to restart the kernel to use updated packages.\n"
     ]
    }
   ],
   "source": [
    "%pip install mysql-connector-python"
   ]
  },
  {
   "cell_type": "code",
   "execution_count": 2,
   "id": "38c2b6bc-ee2a-4c3b-9e46-cdb56f3988d2",
   "metadata": {},
   "outputs": [
    {
     "name": "stdout",
     "output_type": "stream",
     "text": [
      "Requirement already satisfied: python-dotenv in c:\\users\\harshith\\appdata\\local\\programs\\python\\python312\\lib\\site-packages (1.0.1)\n",
      "Note: you may need to restart the kernel to use updated packages.\n"
     ]
    }
   ],
   "source": [
    "%pip install python-dotenv"
   ]
  },
  {
   "cell_type": "code",
   "execution_count": 3,
   "id": "739e1cb0-5221-4b13-b18f-2384b5a08a36",
   "metadata": {},
   "outputs": [],
   "source": [
    "import os\n",
    "from dotenv import load_dotenv"
   ]
  },
  {
   "cell_type": "code",
   "execution_count": 4,
   "id": "c0068681-56e2-49af-84d2-061c978127d8",
   "metadata": {},
   "outputs": [
    {
     "data": {
      "text/plain": [
       "True"
      ]
     },
     "execution_count": 4,
     "metadata": {},
     "output_type": "execute_result"
    }
   ],
   "source": [
    "load_dotenv()"
   ]
  },
  {
   "cell_type": "code",
   "execution_count": 5,
   "id": "51b656d2-6cdf-4933-bf24-5848ea515467",
   "metadata": {},
   "outputs": [],
   "source": [
    "# fetch variables\n",
    "db_host=os.getenv(\"DB_HOST\")\n",
    "db_user=os.getenv(\"DB_USER\")\n",
    "db_password=os.getenv(\"DB_PASSWORD\")\n",
    "db_name=os.getenv(\"DB_NAME\")"
   ]
  },
  {
   "cell_type": "code",
   "execution_count": 6,
   "id": "fba42813-4545-4f9c-87f7-9031b8bd5df4",
   "metadata": {},
   "outputs": [
    {
     "name": "stdout",
     "output_type": "stream",
     "text": [
      "127.0.0.1\n"
     ]
    }
   ],
   "source": [
    "print(db_host)"
   ]
  },
  {
   "cell_type": "code",
   "execution_count": 7,
   "id": "09b2d152-b4df-40fd-afab-346ae679dcdf",
   "metadata": {},
   "outputs": [
    {
     "name": "stdout",
     "output_type": "stream",
     "text": [
      "root\n"
     ]
    }
   ],
   "source": [
    "print(db_user)"
   ]
  },
  {
   "cell_type": "code",
   "execution_count": 8,
   "id": "6e46133c-2660-4278-9a5f-7dba38e73413",
   "metadata": {},
   "outputs": [],
   "source": [
    "import mysql.connector as conn"
   ]
  },
  {
   "cell_type": "code",
   "execution_count": 9,
   "id": "c70b484d-f24f-4cb4-92f7-7e987c3c7249",
   "metadata": {},
   "outputs": [
    {
     "data": {
      "text/plain": [
       "<mysql.connector.connection_cext.CMySQLConnection at 0x1eaffce3200>"
      ]
     },
     "execution_count": 9,
     "metadata": {},
     "output_type": "execute_result"
    }
   ],
   "source": [
    "conn.connect(host=db_host,user=db_user,passwd=db_password)"
   ]
  },
  {
   "cell_type": "code",
   "execution_count": 10,
   "id": "662ff966-5398-4d71-b3ed-2e5a144a66e5",
   "metadata": {},
   "outputs": [],
   "source": [
    "mydbobj=conn.connect(host=db_host,user=db_user,passwd=db_password)"
   ]
  },
  {
   "cell_type": "code",
   "execution_count": 11,
   "id": "846d9bc9-68b4-4979-9d7e-6b192b65a8b4",
   "metadata": {},
   "outputs": [],
   "source": [
    "cursor=mydbobj.cursor()"
   ]
  },
  {
   "cell_type": "code",
   "execution_count": 12,
   "id": "1014d2d1-b673-43be-a026-cba6a255fb4f",
   "metadata": {},
   "outputs": [
    {
     "data": {
      "text/plain": [
       "<mysql.connector.cursor_cext.CMySQLCursor at 0x1eaff8c27e0>"
      ]
     },
     "execution_count": 12,
     "metadata": {},
     "output_type": "execute_result"
    }
   ],
   "source": [
    "# cursor.execute(\"select * from table_name\")\n",
    "# cursor.fetchall()\n",
    "cursor"
   ]
  },
  {
   "cell_type": "code",
   "execution_count": 13,
   "id": "77d5f7f3-985c-4cff-ab92-299575cd73d6",
   "metadata": {},
   "outputs": [],
   "source": [
    "cursor.execute(\"show databases\")"
   ]
  },
  {
   "cell_type": "code",
   "execution_count": 14,
   "id": "ef535d16-88a8-4d60-b2b1-8e4f874dec13",
   "metadata": {},
   "outputs": [
    {
     "data": {
      "text/plain": [
       "[('information_schema',),\n",
       " ('my_database',),\n",
       " ('mysql',),\n",
       " ('performance_schema',),\n",
       " ('sakila',)]"
      ]
     },
     "execution_count": 14,
     "metadata": {},
     "output_type": "execute_result"
    }
   ],
   "source": [
    "cursor.fetchall()"
   ]
  },
  {
   "cell_type": "code",
   "execution_count": 15,
   "id": "48f98a27-8eae-4776-adc8-b6681ee35acf",
   "metadata": {},
   "outputs": [],
   "source": [
    "cursor.execute(\"create database creds\")"
   ]
  },
  {
   "cell_type": "code",
   "execution_count": 16,
   "id": "d1512549-a579-49ad-83c1-b3f7ccf39d76",
   "metadata": {},
   "outputs": [],
   "source": [
    "cursor.execute(\"show databases\")"
   ]
  },
  {
   "cell_type": "code",
   "execution_count": 17,
   "id": "fca9f01d-63a6-4b9f-9d7a-872a3bff9a3d",
   "metadata": {},
   "outputs": [
    {
     "data": {
      "text/plain": [
       "[('creds',),\n",
       " ('information_schema',),\n",
       " ('my_database',),\n",
       " ('mysql',),\n",
       " ('performance_schema',),\n",
       " ('sakila',)]"
      ]
     },
     "execution_count": 17,
     "metadata": {},
     "output_type": "execute_result"
    }
   ],
   "source": [
    "cursor.fetchall()"
   ]
  },
  {
   "cell_type": "code",
   "execution_count": 18,
   "id": "4890c60b-28bf-4e47-8197-028f9d2fd885",
   "metadata": {},
   "outputs": [],
   "source": [
    "cursor.execute(\"use creds\")"
   ]
  },
  {
   "cell_type": "code",
   "execution_count": 19,
   "id": "85ce0322-2634-4fc2-91fb-f1fac0074c63",
   "metadata": {},
   "outputs": [],
   "source": [
    "cursor.execute(\"create table users(name VARCHAR(20),  email VARCHAR(100), password VARCHAR(20))\")"
   ]
  },
  {
   "cell_type": "code",
   "execution_count": 20,
   "id": "bc9410a7-e266-4895-a449-8118ae38ed7f",
   "metadata": {},
   "outputs": [],
   "source": [
    "cursor.execute(\"insert into users values('Jyoti','example@gmail.com','qwerty')\")"
   ]
  },
  {
   "cell_type": "code",
   "execution_count": 21,
   "id": "512ced1c-6830-40ad-b173-fa69af6f2299",
   "metadata": {},
   "outputs": [],
   "source": [
    "cursor.execute(\"select * from users\")"
   ]
  },
  {
   "cell_type": "code",
   "execution_count": 22,
   "id": "a894db61-012e-415a-bf34-3c7054f9685f",
   "metadata": {},
   "outputs": [
    {
     "data": {
      "text/plain": [
       "[('Jyoti', 'example@gmail.com', 'qwerty')]"
      ]
     },
     "execution_count": 22,
     "metadata": {},
     "output_type": "execute_result"
    }
   ],
   "source": [
    "cursor.fetchall()"
   ]
  },
  {
   "cell_type": "code",
   "execution_count": 23,
   "id": "fec29e9c-f710-4874-b207-100a8b9ccd7a",
   "metadata": {},
   "outputs": [],
   "source": [
    "cursor.execute(\"show databases\")"
   ]
  },
  {
   "cell_type": "code",
   "execution_count": 24,
   "id": "fa3e4275-2762-4793-a9b0-b4eb648cbdb8",
   "metadata": {},
   "outputs": [
    {
     "data": {
      "text/plain": [
       "[('creds',),\n",
       " ('information_schema',),\n",
       " ('my_database',),\n",
       " ('mysql',),\n",
       " ('performance_schema',),\n",
       " ('sakila',)]"
      ]
     },
     "execution_count": 24,
     "metadata": {},
     "output_type": "execute_result"
    }
   ],
   "source": [
    "cursor.fetchall()"
   ]
  },
  {
   "cell_type": "code",
   "execution_count": 25,
   "id": "25aea917-50af-4ea3-9b25-76e8f2b30695",
   "metadata": {},
   "outputs": [],
   "source": [
    "cursor.execute(\"drop database creds\")"
   ]
  },
  {
   "cell_type": "code",
   "execution_count": 26,
   "id": "d2fb19d0-0050-42c2-a3b4-47e3ae226bb3",
   "metadata": {},
   "outputs": [],
   "source": [
    "cursor.execute(\"show databases\")"
   ]
  },
  {
   "cell_type": "code",
   "execution_count": 27,
   "id": "9246e94c-3e68-4815-9b98-98122ed855cf",
   "metadata": {},
   "outputs": [
    {
     "data": {
      "text/plain": [
       "[('information_schema',),\n",
       " ('my_database',),\n",
       " ('mysql',),\n",
       " ('performance_schema',),\n",
       " ('sakila',)]"
      ]
     },
     "execution_count": 27,
     "metadata": {},
     "output_type": "execute_result"
    }
   ],
   "source": [
    "cursor.fetchall()"
   ]
  },
  {
   "cell_type": "code",
   "execution_count": null,
   "id": "fa6cd1e7-7edb-44b0-80d4-2792af824c55",
   "metadata": {},
   "outputs": [],
   "source": []
  }
 ],
 "metadata": {
  "kernelspec": {
   "display_name": "Python 3",
   "language": "python",
   "name": "python3"
  },
  "language_info": {
   "codemirror_mode": {
    "name": "ipython",
    "version": 3
   },
   "file_extension": ".py",
   "mimetype": "text/x-python",
   "name": "python",
   "nbconvert_exporter": "python",
   "pygments_lexer": "ipython3",
   "version": "3.12.6"
  }
 },
 "nbformat": 4,
 "nbformat_minor": 5
}
